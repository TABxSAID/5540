{
 "cells": [
  {
   "cell_type": "code",
   "execution_count": 19,
   "id": "99d1af37-ddd6-47dc-adcd-48ee8d3ff3ce",
   "metadata": {},
   "outputs": [
    {
     "name": "stdout",
     "output_type": "stream",
     "text": [
      "0      <30\n",
      "1      <30\n",
      "2    30-45\n",
      "3      <30\n",
      "4      <30\n",
      "5    46-60\n",
      "6    46-60\n",
      "7      <30\n",
      "8      <30\n",
      "9    30-45\n",
      "Name: Age, dtype: category\n",
      "Categories (4, object): ['<30' < '30-45' < '46-60' < '>60']\n",
      "Cleaned data saved!\n"
     ]
    }
   ],
   "source": [
    "# import pandas as pd\n",
    "import numpy as np\n",
    "# Load raw data\n",
    "df = pd.read_csv('../data_raw/raw_data.csv')\n",
    "\n",
    "# Unit standardization: Convert height and weight\n",
    "df['Height_m'] = df['Height'] * 0.0254  # inches to meters\n",
    "df['Weight_kg'] = df['Weight'] * 0.45359237  # pounds to kg\n",
    "\n",
    "# BMI calculation: Vectorized calculation\n",
    "df['BMI'] = (df['Weight_kg'] / (df['Height_m'] ** 2)).round(2)\n",
    "\n",
    "# Age Grouping: Using pd.cut for efficient binning\n",
    "age_bins = [0, 30, 45, 60, float('inf')]\n",
    "age_labels = ['<30', '30-45', '46-60', '>60']\n",
    "df['AgeGroup'] = pd.cut(df['Age'], bins=age_bins, labels=age_labels)\n",
    "print(pd.cut(df['Age'], bins=age_bins, labels=age_labels))\n",
    "# Categorical to numeric encoding\n",
    "df['Frailty_binary'] = df['Frailty'].map({'Y': 1, 'N': 0}).astype('int8')\n",
    "\n",
    "# One-hot encoding AgeGroup directly\n",
    "df = pd.concat([df, pd.get_dummies(df['AgeGroup'], prefix='AgeGroup', dtype=int)], axis=1)\n",
    "\n",
    "# Drop unnecessary columns\n",
    "df.drop(columns=['Height', 'Weight', 'Frailty', 'AgeGroup'], inplace=True)\n",
    "\n",
    "# Save cleaned data\n",
    "df.to_csv('../data_clean/clean_data.csv', index=False)\n",
    "\n",
    "# Finishing self note\n",
    "print(f\"Cleaned data saved!\")\n"
   ]
  },
  {
   "cell_type": "code",
   "execution_count": 6,
   "id": "748bfbe4-3d25-4144-9450-518c4a554cce",
   "metadata": {},
   "outputs": [
    {
     "name": "stdout",
     "output_type": "stream",
     "text": [
      "['Age', 'Grip_strength', 'Height_m', 'Weight_kg', 'BMI']\n",
      "                    mean     median        std\n",
      "Age            32.500000  29.500000  12.860361\n",
      "Grip_strength  26.000000  27.000000   4.521553\n",
      "Height_m        1.742440   1.738630   0.042435\n",
      "Weight_kg      59.828834  61.688562   6.455441\n",
      "BMI            19.682000  19.185000   1.780972\n",
      "Findings saved!\n"
     ]
    }
   ],
   "source": [
    "# >> This script handles Stage III: Data Analysis. <<\n",
    "\n",
    "import pandas as pd\n",
    "\n",
    "# Load cleaned data\n",
    "df = pd.read_csv('../data_clean/clean_data.csv')\n",
    "\n",
    "# Get numeric columns but exclude AgeGroup and Frailty_binary columns\n",
    "numeric_cols = [col for col in df.select_dtypes(include=['number']).columns if not col.startswith('AgeGroup_') and col != 'Frailty_binary']\n",
    "print(numeric_cols)\n",
    "# Calculate mean, median, and standard deviation\n",
    "summary = df[numeric_cols].agg(['mean', 'median', 'std']).transpose()\n",
    "print(summary)\n",
    "# Correlation between grip strength and binary frailty\n",
    "correlation = df['Grip_strength'].corr(df['Frailty_binary'])\n",
    "\n",
    "# Save the findings to markdown\n",
    "with open('../reports/findings.md', 'w') as f:\n",
    "    f.write('# Summary Statistics\\n\\n')\n",
    "    f.write(summary.to_markdown())\n",
    "    f.write('\\n\\n# Correlation between Grip Strength and Frailty\\n\\n')\n",
    "    f.write(f'The correlation coefficient is {correlation:.4f}.\\n')\n",
    "\n",
    "# Finishing self note\n",
    "print(\"Findings saved!\")"
   ]
  },
  {
   "cell_type": "code",
   "execution_count": null,
   "id": "f6be42f0-df6e-4d81-96d1-22d728453b80",
   "metadata": {},
   "outputs": [],
   "source": []
  }
 ],
 "metadata": {
  "kernelspec": {
   "display_name": "Python 3 (ipykernel)",
   "language": "python",
   "name": "python3"
  },
  "language_info": {
   "codemirror_mode": {
    "name": "ipython",
    "version": 3
   },
   "file_extension": ".py",
   "mimetype": "text/x-python",
   "name": "python",
   "nbconvert_exporter": "python",
   "pygments_lexer": "ipython3",
   "version": "3.13.3"
  }
 },
 "nbformat": 4,
 "nbformat_minor": 5
}
